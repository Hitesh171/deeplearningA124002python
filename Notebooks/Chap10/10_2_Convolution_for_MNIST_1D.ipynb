{
  "nbformat": 4,
  "nbformat_minor": 0,
  "metadata": {
    "colab": {
      "provenance": [],
      "include_colab_link": true
    },
    "kernelspec": {
      "name": "python3",
      "display_name": "Python 3"
    },
    "language_info": {
      "name": "python"
    }
  },
  "cells": [
    {
      "cell_type": "markdown",
      "metadata": {
        "id": "view-in-github",
        "colab_type": "text"
      },
      "source": [
        "<a href=\"https://colab.research.google.com/github/Hitesh171/deeplearningA124002python/blob/main/Notebooks/Chap10/10_2_Convolution_for_MNIST_1D.ipynb\" target=\"_parent\"><img src=\"https://colab.research.google.com/assets/colab-badge.svg\" alt=\"Open In Colab\"/></a>"
      ]
    },
    {
      "cell_type": "markdown",
      "source": [
        "# **Notebook 10.2: Convolution for MNIST-1D**\n",
        "\n",
        "This notebook investigates a 1D convolutional network for MNIST-1D as in figure 10.7 and 10.8a.\n",
        "\n",
        "Work through the cells below, running each cell in turn. In various places you will see the words \"TODO\". Follow the instructions at these places and make predictions about what is going to happen or write code to complete the functions.\n",
        "\n",
        "Contact me at udlbookmail@gmail.com if you find any mistakes or have any suggestions.\n",
        "\n"
      ],
      "metadata": {
        "id": "t9vk9Elugvmi"
      }
    },
    {
      "cell_type": "code",
      "source": [
        "# Run this if you're in a Colab to install MNIST 1D repository\n",
        "!pip install git+https://github.com/greydanus/mnist1d"
      ],
      "metadata": {
        "id": "D5yLObtZCi9J",
        "outputId": "22a2f2dc-b511-44ed-d3e2-704cd1132468",
        "colab": {
          "base_uri": "https://localhost:8080/"
        }
      },
      "execution_count": 1,
      "outputs": [
        {
          "output_type": "stream",
          "name": "stdout",
          "text": [
            "Collecting git+https://github.com/greydanus/mnist1d\n",
            "  Cloning https://github.com/greydanus/mnist1d to /tmp/pip-req-build-1vw0aovq\n",
            "  Running command git clone --filter=blob:none --quiet https://github.com/greydanus/mnist1d /tmp/pip-req-build-1vw0aovq\n",
            "  Resolved https://github.com/greydanus/mnist1d to commit 7878d96082abd200c546a07a4101fa90b30fdf7e\n",
            "  Installing build dependencies ... \u001b[?25l\u001b[?25hdone\n",
            "  Getting requirements to build wheel ... \u001b[?25l\u001b[?25hdone\n",
            "  Preparing metadata (pyproject.toml) ... \u001b[?25l\u001b[?25hdone\n",
            "Requirement already satisfied: requests in /usr/local/lib/python3.11/dist-packages (from mnist1d==0.0.2.post16) (2.32.3)\n",
            "Requirement already satisfied: numpy in /usr/local/lib/python3.11/dist-packages (from mnist1d==0.0.2.post16) (2.0.2)\n",
            "Requirement already satisfied: matplotlib in /usr/local/lib/python3.11/dist-packages (from mnist1d==0.0.2.post16) (3.10.0)\n",
            "Requirement already satisfied: scipy in /usr/local/lib/python3.11/dist-packages (from mnist1d==0.0.2.post16) (1.15.2)\n",
            "Requirement already satisfied: contourpy>=1.0.1 in /usr/local/lib/python3.11/dist-packages (from matplotlib->mnist1d==0.0.2.post16) (1.3.2)\n",
            "Requirement already satisfied: cycler>=0.10 in /usr/local/lib/python3.11/dist-packages (from matplotlib->mnist1d==0.0.2.post16) (0.12.1)\n",
            "Requirement already satisfied: fonttools>=4.22.0 in /usr/local/lib/python3.11/dist-packages (from matplotlib->mnist1d==0.0.2.post16) (4.57.0)\n",
            "Requirement already satisfied: kiwisolver>=1.3.1 in /usr/local/lib/python3.11/dist-packages (from matplotlib->mnist1d==0.0.2.post16) (1.4.8)\n",
            "Requirement already satisfied: packaging>=20.0 in /usr/local/lib/python3.11/dist-packages (from matplotlib->mnist1d==0.0.2.post16) (24.2)\n",
            "Requirement already satisfied: pillow>=8 in /usr/local/lib/python3.11/dist-packages (from matplotlib->mnist1d==0.0.2.post16) (11.2.1)\n",
            "Requirement already satisfied: pyparsing>=2.3.1 in /usr/local/lib/python3.11/dist-packages (from matplotlib->mnist1d==0.0.2.post16) (3.2.3)\n",
            "Requirement already satisfied: python-dateutil>=2.7 in /usr/local/lib/python3.11/dist-packages (from matplotlib->mnist1d==0.0.2.post16) (2.9.0.post0)\n",
            "Requirement already satisfied: charset-normalizer<4,>=2 in /usr/local/lib/python3.11/dist-packages (from requests->mnist1d==0.0.2.post16) (3.4.1)\n",
            "Requirement already satisfied: idna<4,>=2.5 in /usr/local/lib/python3.11/dist-packages (from requests->mnist1d==0.0.2.post16) (3.10)\n",
            "Requirement already satisfied: urllib3<3,>=1.21.1 in /usr/local/lib/python3.11/dist-packages (from requests->mnist1d==0.0.2.post16) (2.4.0)\n",
            "Requirement already satisfied: certifi>=2017.4.17 in /usr/local/lib/python3.11/dist-packages (from requests->mnist1d==0.0.2.post16) (2025.4.26)\n",
            "Requirement already satisfied: six>=1.5 in /usr/local/lib/python3.11/dist-packages (from python-dateutil>=2.7->matplotlib->mnist1d==0.0.2.post16) (1.17.0)\n",
            "Building wheels for collected packages: mnist1d\n",
            "  Building wheel for mnist1d (pyproject.toml) ... \u001b[?25l\u001b[?25hdone\n",
            "  Created wheel for mnist1d: filename=mnist1d-0.0.2.post16-py3-none-any.whl size=14663 sha256=2da9f2d8519124732d0d9e4faad3a3ba2c0b779937c4e5326e738f57828c5a20\n",
            "  Stored in directory: /tmp/pip-ephem-wheel-cache-7eodq3b1/wheels/d6/38/42/3d2112bc7d915f6195254ac85eb761d922d1b18f52817aa8e2\n",
            "Successfully built mnist1d\n",
            "Installing collected packages: mnist1d\n",
            "Successfully installed mnist1d-0.0.2.post16\n"
          ]
        }
      ]
    },
    {
      "cell_type": "code",
      "source": [
        "import numpy as np\n",
        "import os\n",
        "import torch, torch.nn as nn\n",
        "from torch.utils.data import TensorDataset, DataLoader\n",
        "from torch.optim.lr_scheduler import StepLR\n",
        "import matplotlib.pyplot as plt\n",
        "import mnist1d\n",
        "import random"
      ],
      "metadata": {
        "id": "YrXWAH7sUWvU"
      },
      "execution_count": 2,
      "outputs": []
    },
    {
      "cell_type": "code",
      "source": [
        "args = mnist1d.data.get_dataset_args()\n",
        "data = mnist1d.data.get_dataset(args, path='./mnist1d_data.pkl', download=False, regenerate=False)\n",
        "\n",
        "# The training and test input and outputs are in\n",
        "# data['x'], data['y'], data['x_test'], and data['y_test']\n",
        "print(\"Examples in training set: {}\".format(len(data['y'])))\n",
        "print(\"Examples in test set: {}\".format(len(data['y_test'])))\n",
        "print(\"Length of each example: {}\".format(data['x'].shape[-1]))"
      ],
      "metadata": {
        "id": "twI72ZCrCt5z",
        "outputId": "c35bfe94-fba1-4c59-a975-2d0bbf2f3b46",
        "colab": {
          "base_uri": "https://localhost:8080/"
        }
      },
      "execution_count": 3,
      "outputs": [
        {
          "output_type": "stream",
          "name": "stdout",
          "text": [
            "Did or could not load data from ./mnist1d_data.pkl. Rebuilding dataset...\n",
            "Examples in training set: 4000\n",
            "Examples in test set: 1000\n",
            "Length of each example: 40\n"
          ]
        }
      ]
    },
    {
      "cell_type": "code",
      "source": [
        "# Load in the data\n",
        "train_data_x = data['x'].transpose()\n",
        "train_data_y = data['y']\n",
        "val_data_x = data['x_test'].transpose()\n",
        "val_data_y = data['y_test']\n",
        "# Print out sizes\n",
        "print(\"Train data: %d examples (columns), each of which has %d dimensions (rows)\"%((train_data_x.shape[1],train_data_x.shape[0])))\n",
        "print(\"Validation data: %d examples (columns), each of which has %d dimensions (rows)\"%((val_data_x.shape[1],val_data_x.shape[0])))"
      ],
      "metadata": {
        "id": "8bKADvLHbiV5",
        "outputId": "a0f64a7f-a504-42ba-d88f-83a7e9ae57b5",
        "colab": {
          "base_uri": "https://localhost:8080/"
        }
      },
      "execution_count": 4,
      "outputs": [
        {
          "output_type": "stream",
          "name": "stdout",
          "text": [
            "Train data: 4000 examples (columns), each of which has 40 dimensions (rows)\n",
            "Validation data: 1000 examples (columns), each of which has 40 dimensions (rows)\n"
          ]
        }
      ]
    },
    {
      "cell_type": "markdown",
      "source": [
        "Define the network"
      ],
      "metadata": {
        "id": "_sFvRDGrl4qe"
      }
    },
    {
      "cell_type": "code",
      "source": [
        "# There are 40 input dimensions and 10 output dimensions for this data\n",
        "# The inputs correspond to the 40 offsets in the MNIST1D template.\n",
        "D_i = 40\n",
        "# The outputs correspond to the 10 digits\n",
        "D_o = 10\n",
        "\n",
        "\n",
        "# TODO Create a model with the following layers\n",
        "\n",
        "\n",
        "# References:\n",
        "# https://pytorch.org/docs/1.13/generated/torch.nn.Conv1d.html?highlight=conv1d#torch.nn.Conv1d\n",
        "# https://pytorch.org/docs/stable/generated/torch.nn.Flatten.html\n",
        "# https://pytorch.org/docs/1.13/generated/torch.nn.Linear.html?highlight=linear#torch.nn.Linear\n",
        "\n",
        "# NOTE THAT THE CONVOLUTIONAL LAYERS NEED TO TAKE THE NUMBER OF INPUT CHANNELS AS A PARAMETER\n",
        "# AND NOT THE INPUT SIZE.\n",
        "\n",
        "# Replace the following function:\n",
        "model = nn.Sequential(\n",
        "    # 1. Convolutional layer, (input=length 40 and 1 channel, kernel size 3, stride 2, padding=\"valid\", 15 output channels )\n",
        "nn.Conv1d(in_channels=1, out_channels=15, kernel_size=3, stride=2, padding=0),\n",
        "# 2. ReLU\n",
        "nn.ReLU(),\n",
        "\n",
        "# 3. Convolutional layer, (input=length 19 and 15 channels, kernel size 3, stride 2, padding=\"valid\", 15 output channels )\n",
        "nn.Conv1d(in_channels=15, out_channels=15, kernel_size=3, stride=2, padding=0),\n",
        "# 4. ReLU\n",
        "nn.ReLU(),\n",
        "\n",
        "# 5. Convolutional layer, (input=length 9 and 15 channels, kernel size 3, stride 2, padding=\"valid\", 15 output channels)\n",
        "nn.Conv1d(in_channels=15, out_channels=15, kernel_size=3, stride=2, padding=0),\n",
        "# 6. ReLU\n",
        "nn.ReLU(),\n",
        "\n",
        "# 7. Flatten (converts 4x15) to length 60\n",
        "nn.Flatten(),\n",
        "\n",
        "# 8. Linear layer (input size = 60, output size = 10)\n",
        "nn.Linear(in_features=60, out_features=10)\n",
        ")\n",
        "\n",
        "\n",
        "\n"
      ],
      "metadata": {
        "id": "FslroPJJffrh"
      },
      "execution_count": 5,
      "outputs": []
    },
    {
      "cell_type": "code",
      "source": [
        "# He initialization of weights\n",
        "def weights_init(layer_in):\n",
        "  if isinstance(layer_in, nn.Linear):\n",
        "    nn.init.kaiming_uniform_(layer_in.weight)\n",
        "    layer_in.bias.data.fill_(0.0)"
      ],
      "metadata": {
        "id": "YgLaex1pfhqz"
      },
      "execution_count": 6,
      "outputs": []
    },
    {
      "cell_type": "code",
      "source": [
        "# choose cross entropy loss function (equation 5.24 in the loss notes)\n",
        "loss_function = nn.CrossEntropyLoss()\n",
        "# construct SGD optimizer and initialize learning rate and momentum\n",
        "optimizer = torch.optim.SGD(model.parameters(), lr = 0.05, momentum=0.9)\n",
        "# object that decreases learning rate by half every 20 epochs\n",
        "scheduler = StepLR(optimizer, step_size=20, gamma=0.5)\n",
        "# create 100 dummy data points and store in data loader class\n",
        "x_train = torch.tensor(train_data_x.transpose().astype('float32'))\n",
        "y_train = torch.tensor(train_data_y.astype('long')).long()\n",
        "x_val= torch.tensor(val_data_x.transpose().astype('float32'))\n",
        "y_val = torch.tensor(val_data_y.astype('long')).long()\n",
        "\n",
        "# load the data into a class that creates the batches\n",
        "data_loader = DataLoader(TensorDataset(x_train,y_train), batch_size=100, shuffle=True, worker_init_fn=np.random.seed(1))\n",
        "\n",
        "# Initialize model weights\n",
        "model.apply(weights_init)\n",
        "\n",
        "# loop over the dataset n_epoch times\n",
        "n_epoch = 100\n",
        "# store the loss and the % correct at each epoch\n",
        "losses_train = np.zeros((n_epoch))\n",
        "errors_train = np.zeros((n_epoch))\n",
        "losses_val = np.zeros((n_epoch))\n",
        "errors_val = np.zeros((n_epoch))\n",
        "\n",
        "for epoch in range(n_epoch):\n",
        "  # loop over batches\n",
        "  for i, data in enumerate(data_loader):\n",
        "    # retrieve inputs and labels for this batch\n",
        "    x_batch, y_batch = data\n",
        "    # zero the parameter gradients\n",
        "    optimizer.zero_grad()\n",
        "    # forward pass -- calculate model output\n",
        "    pred = model(x_batch[:,None,:])\n",
        "    # compute the loss\n",
        "    loss = loss_function(pred, y_batch)\n",
        "    # backward pass\n",
        "    loss.backward()\n",
        "    # SGD update\n",
        "    optimizer.step()\n",
        "\n",
        "  # Run whole dataset to get statistics -- normally wouldn't do this\n",
        "  pred_train = model(x_train[:,None,:])\n",
        "  pred_val = model(x_val[:,None,:])\n",
        "  _, predicted_train_class = torch.max(pred_train.data, 1)\n",
        "  _, predicted_val_class = torch.max(pred_val.data, 1)\n",
        "  errors_train[epoch] = 100 - 100 * (predicted_train_class == y_train).float().sum() / len(y_train)\n",
        "  errors_val[epoch]= 100 - 100 * (predicted_val_class == y_val).float().sum() / len(y_val)\n",
        "  losses_train[epoch] = loss_function(pred_train, y_train).item()\n",
        "  losses_val[epoch]= loss_function(pred_val, y_val).item()\n",
        "  print(f'Epoch {epoch:5d}, train loss {losses_train[epoch]:.6f}, train error {errors_train[epoch]:3.2f},  val loss {losses_val[epoch]:.6f}, percent error {errors_val[epoch]:3.2f}')\n",
        "\n",
        "  # tell scheduler to consider updating learning rate\n",
        "  scheduler.step()\n",
        "\n",
        "# Plot the results\n",
        "fig, ax = plt.subplots()\n",
        "ax.plot(errors_train,'r-',label='train')\n",
        "ax.plot(errors_val,'b-',label='validation')\n",
        "ax.set_ylim(0,100); ax.set_xlim(0,n_epoch)\n",
        "ax.set_xlabel('Epoch'); ax.set_ylabel('Error')\n",
        "ax.set_title('Part I: Validation Result %3.2f'%(errors_val[-1]))\n",
        "ax.legend()\n",
        "plt.show()"
      ],
      "metadata": {
        "id": "NYw8I_3mmX5c",
        "outputId": "0d9529b6-38b8-4b31-cac4-d2337a8a6f72",
        "colab": {
          "base_uri": "https://localhost:8080/",
          "height": 1000
        }
      },
      "execution_count": 7,
      "outputs": [
        {
          "output_type": "stream",
          "name": "stdout",
          "text": [
            "Epoch     0, train loss 1.951973, train error 78.30,  val loss 1.961019, percent error 77.60\n",
            "Epoch     1, train loss 1.561963, train error 63.15,  val loss 1.590504, percent error 65.60\n",
            "Epoch     2, train loss 1.469831, train error 60.25,  val loss 1.498676, percent error 64.70\n",
            "Epoch     3, train loss 1.244770, train error 51.20,  val loss 1.266705, percent error 54.60\n",
            "Epoch     4, train loss 1.186788, train error 48.17,  val loss 1.229771, percent error 51.00\n",
            "Epoch     5, train loss 1.104906, train error 42.70,  val loss 1.147385, percent error 46.60\n",
            "Epoch     6, train loss 1.035426, train error 41.10,  val loss 1.067897, percent error 44.80\n",
            "Epoch     7, train loss 0.951365, train error 38.42,  val loss 0.999142, percent error 42.90\n",
            "Epoch     8, train loss 0.795341, train error 29.82,  val loss 0.847922, percent error 33.30\n",
            "Epoch     9, train loss 0.799047, train error 30.68,  val loss 0.844413, percent error 34.00\n",
            "Epoch    10, train loss 0.628205, train error 22.60,  val loss 0.671542, percent error 25.90\n",
            "Epoch    11, train loss 0.582913, train error 22.68,  val loss 0.644161, percent error 25.10\n",
            "Epoch    12, train loss 0.522039, train error 19.57,  val loss 0.611775, percent error 24.30\n",
            "Epoch    13, train loss 0.448911, train error 16.22,  val loss 0.529293, percent error 19.40\n",
            "Epoch    14, train loss 0.439902, train error 16.00,  val loss 0.524025, percent error 19.10\n",
            "Epoch    15, train loss 0.353785, train error 12.85,  val loss 0.421474, percent error 16.50\n",
            "Epoch    16, train loss 0.344547, train error 12.35,  val loss 0.459757, percent error 16.40\n",
            "Epoch    17, train loss 0.306192, train error 11.10,  val loss 0.397622, percent error 14.20\n",
            "Epoch    18, train loss 0.281672, train error 10.55,  val loss 0.360682, percent error 13.20\n",
            "Epoch    19, train loss 0.265695, train error 9.05,  val loss 0.362583, percent error 11.60\n",
            "Epoch    20, train loss 0.198774, train error 7.32,  val loss 0.320304, percent error 10.50\n",
            "Epoch    21, train loss 0.193353, train error 6.57,  val loss 0.335013, percent error 11.00\n",
            "Epoch    22, train loss 0.181476, train error 6.20,  val loss 0.324515, percent error 10.20\n",
            "Epoch    23, train loss 0.163175, train error 5.72,  val loss 0.308583, percent error 10.00\n",
            "Epoch    24, train loss 0.158445, train error 5.65,  val loss 0.308332, percent error 9.30\n",
            "Epoch    25, train loss 0.147012, train error 4.88,  val loss 0.330748, percent error 10.20\n",
            "Epoch    26, train loss 0.143065, train error 4.95,  val loss 0.322170, percent error 9.20\n",
            "Epoch    27, train loss 0.172366, train error 6.45,  val loss 0.373438, percent error 11.00\n",
            "Epoch    28, train loss 0.164467, train error 6.22,  val loss 0.359288, percent error 10.20\n",
            "Epoch    29, train loss 0.188495, train error 7.10,  val loss 0.388982, percent error 11.70\n",
            "Epoch    30, train loss 0.123053, train error 3.90,  val loss 0.326882, percent error 9.40\n",
            "Epoch    31, train loss 0.117089, train error 3.95,  val loss 0.313606, percent error 9.40\n",
            "Epoch    32, train loss 0.123398, train error 4.20,  val loss 0.327770, percent error 8.80\n",
            "Epoch    33, train loss 0.134730, train error 4.95,  val loss 0.354508, percent error 10.40\n",
            "Epoch    34, train loss 0.114314, train error 3.85,  val loss 0.343649, percent error 9.50\n",
            "Epoch    35, train loss 0.108721, train error 3.50,  val loss 0.344488, percent error 9.80\n",
            "Epoch    36, train loss 0.109264, train error 3.78,  val loss 0.360003, percent error 9.50\n",
            "Epoch    37, train loss 0.112880, train error 3.90,  val loss 0.351666, percent error 9.90\n",
            "Epoch    38, train loss 0.091130, train error 3.15,  val loss 0.332316, percent error 9.10\n",
            "Epoch    39, train loss 0.106207, train error 3.93,  val loss 0.349733, percent error 9.10\n",
            "Epoch    40, train loss 0.081756, train error 2.55,  val loss 0.345444, percent error 9.20\n",
            "Epoch    41, train loss 0.071823, train error 2.20,  val loss 0.330843, percent error 8.70\n",
            "Epoch    42, train loss 0.070738, train error 2.18,  val loss 0.332117, percent error 8.60\n",
            "Epoch    43, train loss 0.071932, train error 2.07,  val loss 0.340041, percent error 8.60\n",
            "Epoch    44, train loss 0.069128, train error 1.97,  val loss 0.335843, percent error 8.40\n",
            "Epoch    45, train loss 0.066253, train error 1.90,  val loss 0.340455, percent error 8.50\n",
            "Epoch    46, train loss 0.064594, train error 2.05,  val loss 0.337373, percent error 8.60\n",
            "Epoch    47, train loss 0.071147, train error 2.05,  val loss 0.351437, percent error 8.80\n",
            "Epoch    48, train loss 0.061598, train error 1.68,  val loss 0.337271, percent error 8.30\n",
            "Epoch    49, train loss 0.063456, train error 1.75,  val loss 0.341560, percent error 8.70\n",
            "Epoch    50, train loss 0.062388, train error 1.57,  val loss 0.352228, percent error 8.70\n",
            "Epoch    51, train loss 0.067487, train error 2.10,  val loss 0.344964, percent error 8.90\n",
            "Epoch    52, train loss 0.060974, train error 1.75,  val loss 0.361560, percent error 8.60\n",
            "Epoch    53, train loss 0.066756, train error 2.07,  val loss 0.361649, percent error 9.00\n",
            "Epoch    54, train loss 0.052577, train error 1.30,  val loss 0.341974, percent error 8.30\n",
            "Epoch    55, train loss 0.055309, train error 1.43,  val loss 0.355291, percent error 8.70\n",
            "Epoch    56, train loss 0.054315, train error 1.38,  val loss 0.358521, percent error 8.30\n",
            "Epoch    57, train loss 0.060364, train error 1.65,  val loss 0.383657, percent error 9.20\n",
            "Epoch    58, train loss 0.051799, train error 1.30,  val loss 0.359472, percent error 8.80\n",
            "Epoch    59, train loss 0.053240, train error 1.38,  val loss 0.353166, percent error 8.30\n",
            "Epoch    60, train loss 0.051431, train error 1.38,  val loss 0.367114, percent error 8.20\n",
            "Epoch    61, train loss 0.046416, train error 1.10,  val loss 0.355323, percent error 8.30\n",
            "Epoch    62, train loss 0.046157, train error 1.05,  val loss 0.357582, percent error 8.50\n",
            "Epoch    63, train loss 0.044613, train error 1.10,  val loss 0.355765, percent error 8.70\n",
            "Epoch    64, train loss 0.044724, train error 1.00,  val loss 0.357538, percent error 8.00\n",
            "Epoch    65, train loss 0.043615, train error 0.90,  val loss 0.360423, percent error 8.60\n",
            "Epoch    66, train loss 0.043498, train error 0.90,  val loss 0.362215, percent error 8.60\n",
            "Epoch    67, train loss 0.044977, train error 0.95,  val loss 0.366976, percent error 8.50\n",
            "Epoch    68, train loss 0.043082, train error 0.97,  val loss 0.356812, percent error 8.60\n",
            "Epoch    69, train loss 0.041595, train error 0.82,  val loss 0.364133, percent error 8.50\n",
            "Epoch    70, train loss 0.041744, train error 0.82,  val loss 0.367491, percent error 9.00\n",
            "Epoch    71, train loss 0.041116, train error 0.90,  val loss 0.361696, percent error 8.40\n",
            "Epoch    72, train loss 0.042123, train error 0.93,  val loss 0.367363, percent error 8.80\n",
            "Epoch    73, train loss 0.039994, train error 0.75,  val loss 0.367239, percent error 8.50\n",
            "Epoch    74, train loss 0.042184, train error 0.78,  val loss 0.375547, percent error 8.80\n",
            "Epoch    75, train loss 0.039136, train error 0.75,  val loss 0.369001, percent error 8.50\n",
            "Epoch    76, train loss 0.040241, train error 0.85,  val loss 0.368839, percent error 8.30\n",
            "Epoch    77, train loss 0.038364, train error 0.75,  val loss 0.373579, percent error 8.80\n",
            "Epoch    78, train loss 0.040090, train error 0.75,  val loss 0.373996, percent error 8.60\n",
            "Epoch    79, train loss 0.037484, train error 0.72,  val loss 0.372284, percent error 8.50\n",
            "Epoch    80, train loss 0.037033, train error 0.72,  val loss 0.374012, percent error 8.50\n",
            "Epoch    81, train loss 0.037836, train error 0.68,  val loss 0.373499, percent error 8.70\n",
            "Epoch    82, train loss 0.037903, train error 0.72,  val loss 0.373631, percent error 8.30\n",
            "Epoch    83, train loss 0.036543, train error 0.62,  val loss 0.376252, percent error 8.30\n",
            "Epoch    84, train loss 0.036120, train error 0.65,  val loss 0.377174, percent error 8.60\n",
            "Epoch    85, train loss 0.036058, train error 0.70,  val loss 0.376779, percent error 8.60\n",
            "Epoch    86, train loss 0.036030, train error 0.62,  val loss 0.378354, percent error 8.60\n",
            "Epoch    87, train loss 0.035348, train error 0.57,  val loss 0.377694, percent error 8.50\n",
            "Epoch    88, train loss 0.035113, train error 0.62,  val loss 0.377402, percent error 8.60\n",
            "Epoch    89, train loss 0.035332, train error 0.60,  val loss 0.379190, percent error 8.30\n",
            "Epoch    90, train loss 0.035631, train error 0.57,  val loss 0.378337, percent error 8.50\n",
            "Epoch    91, train loss 0.034588, train error 0.57,  val loss 0.380007, percent error 8.50\n",
            "Epoch    92, train loss 0.034569, train error 0.60,  val loss 0.379348, percent error 8.40\n",
            "Epoch    93, train loss 0.034575, train error 0.57,  val loss 0.382869, percent error 8.80\n",
            "Epoch    94, train loss 0.034756, train error 0.60,  val loss 0.378854, percent error 8.20\n",
            "Epoch    95, train loss 0.034226, train error 0.55,  val loss 0.379690, percent error 8.60\n",
            "Epoch    96, train loss 0.034029, train error 0.60,  val loss 0.382467, percent error 8.60\n",
            "Epoch    97, train loss 0.033665, train error 0.55,  val loss 0.383197, percent error 8.80\n",
            "Epoch    98, train loss 0.034039, train error 0.55,  val loss 0.383928, percent error 8.50\n",
            "Epoch    99, train loss 0.033730, train error 0.57,  val loss 0.381526, percent error 8.30\n"
          ]
        },
        {
          "output_type": "display_data",
          "data": {
            "text/plain": [
              "<Figure size 640x480 with 1 Axes>"
            ],
            "image/png": "[encoded data removed]"
          },
          "metadata": {}
        }
      ]
    }
  ]
}